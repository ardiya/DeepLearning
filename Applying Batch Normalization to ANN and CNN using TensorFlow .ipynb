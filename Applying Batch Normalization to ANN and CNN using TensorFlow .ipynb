{
 "cells": [
  {
   "cell_type": "markdown",
   "metadata": {},
   "source": [
    "In this notebook, I tried to learn about Batch Normalization from this paper http://arxiv.org/abs/1502.03167 and implement it using tensorflow.\n",
    "\n",
    "The dataset used is widely known MNIST dataset. I implemented 2 model, the first one is Artificial Neural Network and the second one is Convolutional Neural Network. Both of the network will be implemented with and without batch normalization so we can compare the result.\n",
    "\n",
    "Based from the result from this notebook, I can conclude that using Batch Normalization can increase the training speed without reducing the accuracy."
   ]
  },
  {
   "cell_type": "code",
   "execution_count": 1,
   "metadata": {
    "collapsed": false
   },
   "outputs": [
    {
     "name": "stdout",
     "output_type": "stream",
     "text": [
      "Extracting MNIST_data/train-images-idx3-ubyte.gz\n",
      "Extracting MNIST_data/train-labels-idx1-ubyte.gz\n",
      "Extracting MNIST_data/t10k-images-idx3-ubyte.gz\n",
      "Extracting MNIST_data/t10k-labels-idx1-ubyte.gz\n"
     ]
    }
   ],
   "source": [
    "import sys\n",
    "import numpy as np\n",
    "import tensorflow as tf\n",
    "from tensorflow.examples.tutorials.mnist import input_data\n",
    "import matplotlib.pyplot as plt\n",
    "%matplotlib inline\n",
    "mnist = input_data.read_data_sets('MNIST_data', one_hot=True)"
   ]
  },
  {
   "cell_type": "markdown",
   "metadata": {},
   "source": [
    "# Model 1\n",
    "## Implementing Batch Normalization to Multi Layer Perceptron "
   ]
  },
  {
   "cell_type": "markdown",
   "metadata": {},
   "source": [
    "The following code is basically the same with http://r2rt.com/implementing-batch-normalization-in-tensorflow.html"
   ]
  },
  {
   "cell_type": "code",
   "execution_count": 2,
   "metadata": {
    "collapsed": false
   },
   "outputs": [],
   "source": [
    "# initializer for weight in 3 layers of multi layer perceptron\n",
    "w1_initial = np.random.normal(size=(784, 100)).astype(np.float32)\n",
    "w2_initial = np.random.normal(size=(100, 100)).astype(np.float32)\n",
    "w3_initial = np.random.normal(size=(100, 10)).astype(np.float32)\n",
    "\n",
    "epsilon = 1e-3"
   ]
  },
  {
   "cell_type": "code",
   "execution_count": 3,
   "metadata": {
    "collapsed": false
   },
   "outputs": [],
   "source": [
    "x = tf.placeholder(tf.float32, shape=[None, 784])\n",
    "y_ = tf.placeholder(tf.float32, shape=[None, 10])"
   ]
  },
  {
   "cell_type": "markdown",
   "metadata": {},
   "source": [
    "#### Normal Multi Layer Perceptron"
   ]
  },
  {
   "cell_type": "code",
   "execution_count": 4,
   "metadata": {
    "collapsed": true
   },
   "outputs": [],
   "source": [
    "## First Dense layer\n",
    "w1 = tf.Variable(w1_initial)\n",
    "b1 = tf.Variable(tf.zeros([100]))\n",
    "z1 = tf.matmul(x, w1) + b1\n",
    "l1 = tf.nn.sigmoid(z1)\n",
    "\n",
    "## Second Dense layer\n",
    "w2 = tf.Variable(w2_initial)\n",
    "b2 = tf.Variable(tf.zeros([100]))\n",
    "z2 = tf.matmul(l1,w2)+b2\n",
    "l2 = tf.nn.sigmoid(z2)\n",
    "\n",
    "## Readout layer\n",
    "w3 = tf.Variable(w3_initial)\n",
    "b3 = tf.Variable(tf.zeros([10]))\n",
    "z3 = tf.matmul(l2,w3)+b3\n",
    "y  = tf.nn.softmax(z3)\n",
    "\n",
    "# Train & metrics\n",
    "cross_entropy = -tf.reduce_sum(y_*tf.log(y))\n",
    "train_step = tf.train.GradientDescentOptimizer(0.01).minimize(cross_entropy)\n",
    "correct_prediction = tf.equal(tf.arg_max(y, 1), tf.argmax(y_, 1))\n",
    "accuracy = tf.reduce_mean(tf.cast(correct_prediction, tf.float32))"
   ]
  },
  {
   "cell_type": "markdown",
   "metadata": {},
   "source": [
    "#### Multi Layer Perceptron with Batch Normalization"
   ]
  },
  {
   "cell_type": "code",
   "execution_count": 5,
   "metadata": {
    "collapsed": false
   },
   "outputs": [],
   "source": [
    "## First Dense layer\n",
    "w1_BN = tf.Variable(w1_initial)\n",
    "z1_BN = tf.matmul(x,w1_BN)\n",
    "# Introduce mean and var\n",
    "batch_mean1, batch_var1 = tf.nn.moments(z1_BN, [0])\n",
    "z1_hat = (z1_BN - batch_mean1) / tf.sqrt(batch_var1 + epsilon)\n",
    "# Introduce new tensor variable to learn the distribution\n",
    "scale1 = tf.Variable(tf.ones([100]))\n",
    "beta1 = tf.Variable(tf.zeros([100]))\n",
    "BN1 = scale1 * z1_hat + beta1\n",
    "l1_BN = tf.nn.sigmoid(BN1)\n",
    "\n",
    "## Second Dense Layer\n",
    "w2_BN = tf.Variable(w2_initial)\n",
    "z2_BN = tf.matmul(l1_BN,w2_BN)\n",
    "# Introduce mean and var\n",
    "batch_mean2, batch_var2 = tf.nn.moments(z2_BN,[0])\n",
    "# Use variable to learn the distribution\n",
    "scale2 = tf.Variable(tf.ones([100]))\n",
    "beta2 = tf.Variable(tf.zeros([100]))\n",
    "# Use the tensorflow batch_normalization function\n",
    "BN2 = tf.nn.batch_normalization(z2_BN,batch_mean2,batch_var2,beta2,scale2,epsilon)\n",
    "l2_BN = tf.nn.sigmoid(BN2)\n",
    "\n",
    "## Readout Layer\n",
    "w3_BN = tf.Variable(w3_initial)\n",
    "b3_BN = tf.Variable(tf.zeros([10]))\n",
    "y_BN  = tf.nn.softmax(tf.matmul(l2_BN,w3_BN)+b3_BN)\n",
    "\n",
    "# Train & metrics\n",
    "cross_entropy_BN = -tf.reduce_sum(y_*tf.log(y_BN))\n",
    "train_step_BN = tf.train.GradientDescentOptimizer(0.01).minimize(cross_entropy_BN)\n",
    "correct_prediction_BN = tf.equal(tf.arg_max(y_BN, 1), tf.arg_max(y_, 1))\n",
    "accuracy_BN = tf.reduce_mean(tf.cast(correct_prediction_BN, tf.float32))"
   ]
  },
  {
   "cell_type": "markdown",
   "metadata": {},
   "source": [
    "##### Training both of the models"
   ]
  },
  {
   "cell_type": "code",
   "execution_count": 6,
   "metadata": {
    "collapsed": false
   },
   "outputs": [
    {
     "name": "stdout",
     "output_type": "stream",
     "text": [
      "Training Step-40000"
     ]
    }
   ],
   "source": [
    "zs, BNs, acc, acc_BN = list(), list(), list(), list()\n",
    "\n",
    "sess = tf.InteractiveSession()\n",
    "sess.run(tf.initialize_all_variables())\n",
    "for i in range(40000):\n",
    "    batch_x, batch_y = mnist.train.next_batch(60)\n",
    "    feed = {x:batch_x, y_:batch_y}\n",
    "    train_step.run(feed_dict=feed)\n",
    "    train_step_BN.run(feed_dict=feed)\n",
    "    if i % 50 == 0:\n",
    "        acc_, acc_BN_, zs_, BNs_ = sess.run([accuracy,\n",
    "            accuracy_BN, z3, BN2], feed_dict={x:mnist.test.images,\n",
    "            y_: mnist.test.labels})\n",
    "        acc.append(acc_)\n",
    "        acc_BN.append(acc_BN_)\n",
    "        zs.append(np.mean(zs_, axis=0))\n",
    "        BNs.append(np.mean(BNs_, axis=0))\n",
    "    print(\"\\rTraining Step-%d\"%(i+1), end=\"\")\n",
    "zs, BNs, acc, acc_BN = (np.array(x) for x in [zs, BNs, acc, acc_BN])"
   ]
  },
  {
   "cell_type": "markdown",
   "metadata": {},
   "source": [
    "##### Comparing the result from both models"
   ]
  },
  {
   "cell_type": "code",
   "execution_count": 7,
   "metadata": {
    "collapsed": false
   },
   "outputs": [
    {
     "data": {
      "image/png": "[encoded data removed]",
      "text/plain": [
       "<matplotlib.figure.Figure at 0x7fa162298f98>"
      ]
     },
     "metadata": {},
     "output_type": "display_data"
    }
   ],
   "source": [
    "fig, ax = plt.subplots()\n",
    "\n",
    "ax.plot(range(0, len(acc)*50, 50), acc, label='Without BN')\n",
    "ax.plot(range(0, len(acc)*50, 50), acc_BN, label='With BN')\n",
    "ax.set_xlabel('Training steps')\n",
    "ax.set_ylabel('Accuracy')\n",
    "ax.set_ylim([0.8, 1])\n",
    "ax.set_title('Batch Normalization Accuracy')\n",
    "ax.legend(loc=4)\n",
    "plt.show()"
   ]
  },
  {
   "cell_type": "code",
   "execution_count": 9,
   "metadata": {
    "collapsed": false
   },
   "outputs": [
    {
     "name": "stdout",
     "output_type": "stream",
     "text": [
      "Predictions: [3, 3, 3, 3, 3, 3, 3, 3, 3, 3, 3, 3, 3, 3, 3, 3, 3, 3, 3, 3, 3, 3, 3, 3, 3, 3, 3, 3, 3, 3, 3, 3, 3, 3, 3, 3, 3, 3, 3, 3, 3, 3, 3, 3, 3, 3, 3, 3, 3, 3, 3, 3, 3, 3, 3, 3, 3, 3, 3, 3, 3, 3, 3, 3, 3, 3, 3, 3, 3, 3, 3, 3, 3, 3, 3, 3, 3, 3, 3, 3, 3, 3, 3, 3, 3, 3, 3, 3, 3, 3, 3, 3, 3, 3, 3, 3, 3, 3, 3, 3]\n"
     ]
    }
   ],
   "source": [
    "predictions=list()\n",
    "correct=0\n",
    "for i in range(100):\n",
    "    pred= sess.run(tf.arg_max(y_BN, 1),\n",
    "        feed_dict={x:[mnist.test.images[i]],y_:[mnist.test.labels[i]]})\n",
    "    predictions.append(pred[0])\n",
    "\n",
    "print(\"Predictions:\", predictions)"
   ]
  },
  {
   "cell_type": "code",
   "execution_count": 10,
   "metadata": {
    "collapsed": true
   },
   "outputs": [],
   "source": [
    "sess.close()"
   ]
  },
  {
   "cell_type": "markdown",
   "metadata": {
    "collapsed": true
   },
   "source": [
    "## Problem !!!\n",
    "\n",
    "From the cell above we know that it actually train well but predicting the same number at the the test time.\n",
    "\n",
    "## Solution\n",
    "From the r2rt blog we actually need to change the mean and the var when testing into the whole population mean and var.\n",
    "\n",
    "However, I found out that there is a new framework from tensorflow to implement this using tf.contrib.layers.batch_norm. So, I'm gonna use it"
   ]
  },
  {
   "cell_type": "code",
   "execution_count": 11,
   "metadata": {
    "collapsed": false
   },
   "outputs": [],
   "source": [
    "def build_graph_with_bn():\n",
    "    x = tf.placeholder(tf.float32, shape=[None, 784], name=\"x\")\n",
    "    y_ = tf.placeholder(tf.float32, shape=[None, 10], name=\"y_\")\n",
    "    is_train = tf.placeholder(tf.bool)\n",
    "\n",
    "    with tf.name_scope('layer1') as scope:\n",
    "        w = tf.Variable(w1_initial)\n",
    "        z = tf.matmul(x,w)\n",
    "        BN = tf.contrib.layers.batch_norm(z, is_training=is_train,\n",
    "            updates_collections=None)\n",
    "        l = tf.nn.sigmoid(z)\n",
    "\n",
    "    with tf.name_scope('layer2') as scope:\n",
    "        w = tf.Variable(w2_initial)\n",
    "        z = tf.matmul(l,w)\n",
    "        BN = tf.contrib.layers.batch_norm(z, is_training=is_train,\n",
    "            updates_collections=None)\n",
    "        l = tf.nn.sigmoid(z)\n",
    "        \n",
    "    with tf.name_scope('softmax') as scope:\n",
    "        w = tf.Variable(w3_initial)\n",
    "        b = tf.Variable(tf.constant(0.1, shape=[10]))\n",
    "        y  = tf.nn.softmax(tf.matmul(l,w)+b)\n",
    "\n",
    "    cross_entropy = -tf.reduce_sum(y_*tf.log(y))\n",
    "    train_step = tf.train.GradientDescentOptimizer(0.01).minimize(cross_entropy)\n",
    "    correct_prediction = tf.equal(tf.arg_max(y, 1), tf.arg_max(y_, 1))\n",
    "    accuracy = tf.reduce_mean(tf.cast(correct_prediction, tf.float32))\n",
    "    \n",
    "    return (x,y_,is_train), train_step, accuracy, y, tf.train.Saver()"
   ]
  },
  {
   "cell_type": "code",
   "execution_count": 12,
   "metadata": {
    "collapsed": false
   },
   "outputs": [
    {
     "name": "stdout",
     "output_type": "stream",
     "text": [
      "........................................................................................................................................................................................................\n",
      "\n",
      "Final accuracy: 0.943\n",
      "Predictions: [7, 2, 1, 0, 4, 1, 4, 9, 6, 9, 0, 6, 9, 0, 1, 5, 9, 7, 3, 4, 9, 6, 6, 5, 4, 0, 7, 4, 0, 1, 3, 1, 3, 6, 7, 2, 7, 1, 2, 1, 1, 7, 4, 2, 3, 3, 1, 2, 4, 4, 6, 3, 5, 5, 6, 0, 4, 1, 9, 5, 7, 8, 9, 3, 7, 4, 2, 4, 3, 0, 7, 0, 2, 9, 1, 7, 3, 2, 9, 7, 7, 6, 2, 7, 8, 4, 7, 3, 6, 1, 3, 6, 9, 3, 1, 4, 1, 7, 6, 9]\n",
      "Accuracy: 0.96\n"
     ]
    }
   ],
   "source": [
    "(x, y_,is_train), train_step, accuracy, y, saver = build_graph_with_bn()\n",
    "\n",
    "acc_BN2 = []\n",
    "predictions=list()\n",
    "correct=0\n",
    "\n",
    "with tf.Session() as sess:\n",
    "    sess.run(tf.initialize_all_variables())\n",
    "    for i in range (10000):\n",
    "        batch_x, batch_y = mnist.train.next_batch(60)\n",
    "        sess.run(train_step, feed_dict={x:batch_x, y_:batch_y,\n",
    "                                        is_train:True})\n",
    "        if i % 50 == 0:\n",
    "            res = sess.run(accuracy, feed_dict={x:mnist.test.images,\n",
    "                y_:mnist.test.labels, is_train:False})\n",
    "            acc_BN2.append(res)\n",
    "            print(\".\", end=\"\")\n",
    "    for i in range(100):\n",
    "        pred, corr = sess.run([tf.arg_max(y, 1), accuracy],\n",
    "            feed_dict={x:[mnist.test.images[i]],y_:[mnist.test.labels[i]],\n",
    "            is_train:False})\n",
    "        correct+= corr\n",
    "        predictions.append(pred[0])\n",
    "\n",
    "print(\"\\n\\nFinal accuracy:\", acc_BN2[-1])\n",
    "print(\"Predictions:\", predictions)\n",
    "print(\"Accuracy:\", correct/100)\n"
   ]
  },
  {
   "cell_type": "markdown",
   "metadata": {},
   "source": [
    "## Fixed\n",
    "As you can see, the prediction at the runtime have been fixed"
   ]
  },
  {
   "cell_type": "markdown",
   "metadata": {},
   "source": [
    "# Model2\n",
    "## Batch Normalization in Convolution Neural Network"
   ]
  },
  {
   "cell_type": "markdown",
   "metadata": {},
   "source": [
    "\n",
    "The network used in this model is similar to the tutorial of the tensorflow [https://www.tensorflow.org/versions/r0.10/tutorials/mnist/pros/index.html#deep-mnist-for-experts] with an addition of batch normalization added to the convolution layer and the dense layer. The difference is this code uses tensorflow contrib library to provide cleaner code."
   ]
  },
  {
   "cell_type": "code",
   "execution_count": 13,
   "metadata": {
    "collapsed": false
   },
   "outputs": [],
   "source": [
    "def build_cnn(x, y_, is_train, with_bn=True):\n",
    "    x_2d = tf.reshape(x, [-1, 28, 28, 1])\n",
    "    \n",
    "    #Setup normalization parameters\n",
    "    if with_bn:\n",
    "        normalizer_fn = tf.contrib.layers.batch_norm\n",
    "        normalizer_params = {\"is_training\":is_train, \"updates_collections\":None}\n",
    "    else:\n",
    "        normalizer_fn, normalizer_params = None, None\n",
    "\n",
    "    #Build the network\n",
    "    with tf.variable_scope('conv1'):\n",
    "        conv1 = tf.contrib.layers.convolution2d(x_2d, kernel_size=[5,5],\n",
    "                    num_outputs = 32, stride=[1,1], padding='SAME',\n",
    "                    normalizer_fn = normalizer_fn,\n",
    "                    weights_initializer=tf.contrib.layers.xavier_initializer_conv2d())\n",
    "        pool1 = tf.contrib.layers.max_pool2d(conv1, kernel_size=[2,2],\n",
    "                    stride=[2,2], padding='SAME')\n",
    "        print(\"Conv1\", pool1.get_shape())\n",
    "    \n",
    "    with tf.variable_scope('conv2'):\n",
    "        conv2 = tf.contrib.layers.convolution2d(pool1, kernel_size=[5,5],\n",
    "                    num_outputs = 64, stride=[1,1], padding='SAME',\n",
    "                    normalizer_fn = normalizer_fn,\n",
    "                    weights_initializer=tf.contrib.layers.xavier_initializer_conv2d())\n",
    "        pool2 = tf.contrib.layers.max_pool2d(conv2, kernel_size=[2,2],\n",
    "                    stride=[2,2], padding='SAME')\n",
    "        print(\"Conv2\", pool2.get_shape())\n",
    "        \n",
    "    with tf.variable_scope('flatten'):\n",
    "        flatten = tf.contrib.layers.flatten(pool2)\n",
    "        print(\"Flatten\", flatten.get_shape())\n",
    "    \n",
    "    with tf.variable_scope('dense'):\n",
    "        dense = tf.contrib.layers.fully_connected(flatten, 1024,normalizer_fn = normalizer_fn)\n",
    "        print(\"Dense\", dense.get_shape())\n",
    "        \n",
    "    with tf.variable_scope('dropout'):\n",
    "        train_keep_prob = tf.constant(0.5)\n",
    "        test_keep_prob = tf.constant(1.0)\n",
    "        drop = tf.nn.dropout(dense, tf.select(\n",
    "                is_train, train_keep_prob, test_keep_prob))\n",
    "        print(\"Dropout\", drop.get_shape())\n",
    "        \n",
    "    with tf.variable_scope('readout'):\n",
    "        y = tf.contrib.layers.fully_connected(drop, 10, tf.nn.softmax)\n",
    "        print(\"Readout\", y.get_shape())\n",
    "\n",
    "    cross_entropy = -tf.reduce_sum(y_*tf.log(y))\n",
    "    train_step = tf.train.AdamOptimizer(1e-4).minimize(\n",
    "        cross_entropy)\n",
    "    correct_prediction = tf.equal(tf.arg_max(y, 1), tf.arg_max(y_, 1))\n",
    "    accuracy = tf.reduce_mean(tf.cast(correct_prediction, tf.float32))\n",
    "    \n",
    "    return train_step, accuracy, y"
   ]
  },
  {
   "cell_type": "code",
   "execution_count": 15,
   "metadata": {
    "collapsed": false,
    "scrolled": false
   },
   "outputs": [
    {
     "name": "stdout",
     "output_type": "stream",
     "text": [
      "\n",
      "Building Convolutional Neural Net without Batch normalization\n",
      "Conv1 (?, 14, 14, 32)\n",
      "Conv2 (?, 7, 7, 64)\n",
      "Flatten (?, 3136)\n",
      "Dense (?, 1024)\n",
      "Dropout (?, 1024)\n",
      "Readout (?, 10)\n",
      "\n",
      "Building Convolutional Neural Net with Batch normalization\n",
      "Conv1 (?, 14, 14, 32)\n",
      "Conv2 (?, 7, 7, 64)\n",
      "Flatten (?, 3136)\n",
      "Dense (?, 1024)\n",
      "Dropout (?, 1024)\n",
      "Readout (?, 10)\n",
      "\n",
      "Training.. #5000/5000\n",
      "\n",
      "\n",
      "Final accuracy without BN 0.9892\n",
      "Final accuracy with BN 0.9926\n"
     ]
    },
    {
     "data": {
      "image/png": "[encoded data removed]",
      "text/plain": [
       "<matplotlib.figure.Figure at 0x7fa14cd31828>"
      ]
     },
     "metadata": {},
     "output_type": "display_data"
    }
   ],
   "source": [
    "tf.reset_default_graph()\n",
    "\n",
    "x = tf.placeholder(tf.float32, shape=[None, 784], name=\"x\")\n",
    "y_ = tf.placeholder(tf.float32, shape=[None, 10], name=\"y_\")\n",
    "is_train = tf.placeholder(tf.bool)\n",
    "\n",
    "with tf.variable_scope('cnn') as scope:\n",
    "    print(\"\\nBuilding Convolutional Neural Net without Batch normalization\")\n",
    "    train_step, accuracy, y = build_cnn(x, y_, is_train, with_bn=False)\n",
    "\n",
    "with tf.variable_scope('cnn_bn') as scope:\n",
    "    print(\"\\nBuilding Convolutional Neural Net with Batch normalization\")\n",
    "    train_stepBN, accuracyBN, yBN = build_cnn(x, y_, is_train, with_bn=True)\n",
    "\n",
    "print()\n",
    "\n",
    "train_iter = 5000\n",
    "acc_CNN = []\n",
    "acc_CNN_BN = []\n",
    "\n",
    "with tf.Session() as sess:\n",
    "    sess.run(tf.initialize_all_variables())\n",
    "    for i in range (train_iter):\n",
    "        batch_x, batch_y = mnist.train.next_batch(50)\n",
    "        sess.run([train_step, train_stepBN], feed_dict={x:batch_x, y_:batch_y,\n",
    "                                        is_train:True})\n",
    "        if i % 100 == 0:\n",
    "            res_CNN, res_CNN_BN = sess.run([accuracy, accuracyBN], \n",
    "                                feed_dict={x:mnist.test.images,\n",
    "                                y_:mnist.test.labels, is_train:False})\n",
    "            acc_CNN.append(res_CNN)\n",
    "            acc_CNN_BN.append(res_CNN_BN)\n",
    "        print(\"\\rTraining.. #%d/%d\" % (i+1, train_iter), end=\"\")\n",
    "\n",
    "print(\"\\n\\n\")\n",
    "print(\"Final accuracy without BN\", acc_CNN[-1])\n",
    "print(\"Final accuracy with BN\", acc_CNN_BN[-1])\n",
    "        \n",
    "plt.plot(range(0, len(acc_CNN)*100, 100), acc_CNN, label='without BN')\n",
    "plt.plot(range(0, len(acc_CNN)*100, 100), acc_CNN_BN, label='with BN')\n",
    "ax.set_xlabel('Training steps')\n",
    "ax.set_ylabel('Accuracy')\n",
    "ax.set_ylim([0.8, 1])\n",
    "plt.legend(loc=4)\n",
    "plt.show()"
   ]
  }
 ],
 "metadata": {
  "anaconda-cloud": {},
  "kernelspec": {
   "display_name": "Python [Root]",
   "language": "python",
   "name": "Python [Root]"
  },
  "language_info": {
   "codemirror_mode": {
    "name": "ipython",
    "version": 3
   },
   "file_extension": ".py",
   "mimetype": "text/x-python",
   "name": "python",
   "nbconvert_exporter": "python",
   "pygments_lexer": "ipython3",
   "version": "3.5.2"
  }
 },
 "nbformat": 4,
 "nbformat_minor": 0
}
